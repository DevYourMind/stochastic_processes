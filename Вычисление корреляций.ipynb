{
 "cells": [
  {
   "cell_type": "code",
   "execution_count": 22,
   "id": "acf12459",
   "metadata": {},
   "outputs": [],
   "source": [
    "import numpy as np\n",
    "import pandas as pd\n",
    "import matplotlib.pyplot as plt\n",
    "from numpy import corrcoef as corr\n",
    "import seaborn as sns"
   ]
  },
  {
   "cell_type": "markdown",
   "id": "af845b3a",
   "metadata": {},
   "source": [
    "Ссылки на данные:\n",
    "\n",
    "Libor3M USD https://fred.stlouisfed.org/series/USD3MTD156N\n",
    "\n",
    "Mosprime3M RUB http://mosprime.com/archive?date_from=2020-12-19&date_to=2021-12-19&contributor="
   ]
  },
  {
   "cell_type": "code",
   "execution_count": 2,
   "id": "ea3cd883",
   "metadata": {},
   "outputs": [
    {
     "data": {
      "text/html": [
       "<div>\n",
       "<style scoped>\n",
       "    .dataframe tbody tr th:only-of-type {\n",
       "        vertical-align: middle;\n",
       "    }\n",
       "\n",
       "    .dataframe tbody tr th {\n",
       "        vertical-align: top;\n",
       "    }\n",
       "\n",
       "    .dataframe thead th {\n",
       "        text-align: right;\n",
       "    }\n",
       "</style>\n",
       "<table border=\"1\" class=\"dataframe\">\n",
       "  <thead>\n",
       "    <tr style=\"text-align: right;\">\n",
       "      <th></th>\n",
       "      <th>data</th>\n",
       "      <th>value</th>\n",
       "    </tr>\n",
       "  </thead>\n",
       "  <tbody>\n",
       "    <tr>\n",
       "      <th>0</th>\n",
       "      <td>2016-12-12</td>\n",
       "      <td>0.95872</td>\n",
       "    </tr>\n",
       "    <tr>\n",
       "      <th>1</th>\n",
       "      <td>2016-12-13</td>\n",
       "      <td>0.96344</td>\n",
       "    </tr>\n",
       "    <tr>\n",
       "      <th>2</th>\n",
       "      <td>2016-12-14</td>\n",
       "      <td>0.97039</td>\n",
       "    </tr>\n",
       "    <tr>\n",
       "      <th>3</th>\n",
       "      <td>2016-12-15</td>\n",
       "      <td>0.99317</td>\n",
       "    </tr>\n",
       "    <tr>\n",
       "      <th>4</th>\n",
       "      <td>2016-12-16</td>\n",
       "      <td>0.99733</td>\n",
       "    </tr>\n",
       "  </tbody>\n",
       "</table>\n",
       "</div>"
      ],
      "text/plain": [
       "        data    value\n",
       "0 2016-12-12  0.95872\n",
       "1 2016-12-13  0.96344\n",
       "2 2016-12-14  0.97039\n",
       "3 2016-12-15  0.99317\n",
       "4 2016-12-16  0.99733"
      ]
     },
     "execution_count": 2,
     "metadata": {},
     "output_type": "execute_result"
    }
   ],
   "source": [
    "df_libor = pd.read_excel('libor3mUSD.xlsx', header = None, names=['data', 'value'])\n",
    "df_libor.head()"
   ]
  },
  {
   "cell_type": "code",
   "execution_count": 3,
   "id": "465604f9",
   "metadata": {},
   "outputs": [
    {
     "data": {
      "text/html": [
       "<div>\n",
       "<style scoped>\n",
       "    .dataframe tbody tr th:only-of-type {\n",
       "        vertical-align: middle;\n",
       "    }\n",
       "\n",
       "    .dataframe tbody tr th {\n",
       "        vertical-align: top;\n",
       "    }\n",
       "\n",
       "    .dataframe thead th {\n",
       "        text-align: right;\n",
       "    }\n",
       "</style>\n",
       "<table border=\"1\" class=\"dataframe\">\n",
       "  <thead>\n",
       "    <tr style=\"text-align: right;\">\n",
       "      <th></th>\n",
       "      <th>data</th>\n",
       "      <th>value</th>\n",
       "    </tr>\n",
       "  </thead>\n",
       "  <tbody>\n",
       "    <tr>\n",
       "      <th>0</th>\n",
       "      <td>2020-12-21</td>\n",
       "      <td>4.92</td>\n",
       "    </tr>\n",
       "    <tr>\n",
       "      <th>1</th>\n",
       "      <td>2020-12-22</td>\n",
       "      <td>4.94</td>\n",
       "    </tr>\n",
       "    <tr>\n",
       "      <th>2</th>\n",
       "      <td>2020-12-23</td>\n",
       "      <td>4.93</td>\n",
       "    </tr>\n",
       "    <tr>\n",
       "      <th>3</th>\n",
       "      <td>2020-12-24</td>\n",
       "      <td>4.92</td>\n",
       "    </tr>\n",
       "    <tr>\n",
       "      <th>4</th>\n",
       "      <td>2020-12-25</td>\n",
       "      <td>4.93</td>\n",
       "    </tr>\n",
       "  </tbody>\n",
       "</table>\n",
       "</div>"
      ],
      "text/plain": [
       "        data  value\n",
       "0 2020-12-21   4.92\n",
       "1 2020-12-22   4.94\n",
       "2 2020-12-23   4.93\n",
       "3 2020-12-24   4.92\n",
       "4 2020-12-25   4.93"
      ]
     },
     "execution_count": 3,
     "metadata": {},
     "output_type": "execute_result"
    }
   ],
   "source": [
    "df_mosprime = pd.read_excel('mosprimeRUB.xlsx', header = None, names=['data', 'value'])\n",
    "df_mosprime = df_mosprime.iloc[::-1].reset_index()\n",
    "df_mosprime.drop(columns='index', inplace=True)\n",
    "df_mosprime.head()"
   ]
  },
  {
   "cell_type": "code",
   "execution_count": 4,
   "id": "6c7bc75e",
   "metadata": {},
   "outputs": [
    {
     "data": {
      "text/html": [
       "<div>\n",
       "<style scoped>\n",
       "    .dataframe tbody tr th:only-of-type {\n",
       "        vertical-align: middle;\n",
       "    }\n",
       "\n",
       "    .dataframe tbody tr th {\n",
       "        vertical-align: top;\n",
       "    }\n",
       "\n",
       "    .dataframe thead th {\n",
       "        text-align: right;\n",
       "    }\n",
       "</style>\n",
       "<table border=\"1\" class=\"dataframe\">\n",
       "  <thead>\n",
       "    <tr style=\"text-align: right;\">\n",
       "      <th></th>\n",
       "      <th>data</th>\n",
       "      <th>value</th>\n",
       "    </tr>\n",
       "  </thead>\n",
       "  <tbody>\n",
       "    <tr>\n",
       "      <th>1050</th>\n",
       "      <td>2020-12-21</td>\n",
       "      <td>0.24488</td>\n",
       "    </tr>\n",
       "    <tr>\n",
       "      <th>1051</th>\n",
       "      <td>2020-12-22</td>\n",
       "      <td>0.23813</td>\n",
       "    </tr>\n",
       "    <tr>\n",
       "      <th>1052</th>\n",
       "      <td>2020-12-23</td>\n",
       "      <td>0.25100</td>\n",
       "    </tr>\n",
       "    <tr>\n",
       "      <th>1053</th>\n",
       "      <td>2020-12-24</td>\n",
       "      <td>0.24013</td>\n",
       "    </tr>\n",
       "    <tr>\n",
       "      <th>1054</th>\n",
       "      <td>2020-12-25</td>\n",
       "      <td>0.00000</td>\n",
       "    </tr>\n",
       "    <tr>\n",
       "      <th>...</th>\n",
       "      <td>...</td>\n",
       "      <td>...</td>\n",
       "    </tr>\n",
       "    <tr>\n",
       "      <th>1300</th>\n",
       "      <td>2021-12-06</td>\n",
       "      <td>0.19000</td>\n",
       "    </tr>\n",
       "    <tr>\n",
       "      <th>1301</th>\n",
       "      <td>2021-12-07</td>\n",
       "      <td>0.19825</td>\n",
       "    </tr>\n",
       "    <tr>\n",
       "      <th>1302</th>\n",
       "      <td>2021-12-08</td>\n",
       "      <td>0.20050</td>\n",
       "    </tr>\n",
       "    <tr>\n",
       "      <th>1303</th>\n",
       "      <td>2021-12-09</td>\n",
       "      <td>0.20088</td>\n",
       "    </tr>\n",
       "    <tr>\n",
       "      <th>1304</th>\n",
       "      <td>2021-12-10</td>\n",
       "      <td>0.19825</td>\n",
       "    </tr>\n",
       "  </tbody>\n",
       "</table>\n",
       "<p>255 rows × 2 columns</p>\n",
       "</div>"
      ],
      "text/plain": [
       "           data    value\n",
       "1050 2020-12-21  0.24488\n",
       "1051 2020-12-22  0.23813\n",
       "1052 2020-12-23  0.25100\n",
       "1053 2020-12-24  0.24013\n",
       "1054 2020-12-25  0.00000\n",
       "...         ...      ...\n",
       "1300 2021-12-06  0.19000\n",
       "1301 2021-12-07  0.19825\n",
       "1302 2021-12-08  0.20050\n",
       "1303 2021-12-09  0.20088\n",
       "1304 2021-12-10  0.19825\n",
       "\n",
       "[255 rows x 2 columns]"
      ]
     },
     "execution_count": 4,
     "metadata": {},
     "output_type": "execute_result"
    }
   ],
   "source": [
    "df_libor[(df_libor['data']>'2020-12-20') & (df_libor['data']<'2021-12-17')]"
   ]
  },
  {
   "cell_type": "code",
   "execution_count": 5,
   "id": "14b7a51b",
   "metadata": {},
   "outputs": [
    {
     "data": {
      "image/png": "[encoded data removed]",
      "text/plain": [
       "<Figure size 640x480 with 1 Axes>"
      ]
     },
     "metadata": {
      "needs_background": "light"
     },
     "output_type": "display_data"
    }
   ],
   "source": [
    "from matplotlib.pyplot import figure\n",
    "\n",
    "figure(figsize=(8, 6), dpi=80)\n",
    "\n",
    "plt.plot(df_libor['data'], df_libor['value'])\n",
    "plt.title('libor3M USD')\n",
    "plt.xlabel('Date')\n",
    "plt.ylabel('Value')\n",
    "plt.grid()"
   ]
  },
  {
   "cell_type": "code",
   "execution_count": 6,
   "id": "ffe17cd7",
   "metadata": {},
   "outputs": [
    {
     "data": {
      "image/png": "[encoded data removed]",
      "text/plain": [
       "<Figure size 640x480 with 1 Axes>"
      ]
     },
     "metadata": {
      "needs_background": "light"
     },
     "output_type": "display_data"
    }
   ],
   "source": [
    "figure(figsize=(8, 6), dpi=80)\n",
    "\n",
    "plt.plot(df_mosprime['data'], df_mosprime['value'])\n",
    "plt.title('Mosprime 3M RUB')\n",
    "plt.xlabel('Date')\n",
    "plt.ylabel('Value')\n",
    "plt.grid()"
   ]
  },
  {
   "cell_type": "code",
   "execution_count": 7,
   "id": "32485259",
   "metadata": {},
   "outputs": [
    {
     "data": {
      "text/html": [
       "<div>\n",
       "<style scoped>\n",
       "    .dataframe tbody tr th:only-of-type {\n",
       "        vertical-align: middle;\n",
       "    }\n",
       "\n",
       "    .dataframe tbody tr th {\n",
       "        vertical-align: top;\n",
       "    }\n",
       "\n",
       "    .dataframe thead th {\n",
       "        text-align: right;\n",
       "    }\n",
       "</style>\n",
       "<table border=\"1\" class=\"dataframe\">\n",
       "  <thead>\n",
       "    <tr style=\"text-align: right;\">\n",
       "      <th></th>\n",
       "      <th>data</th>\n",
       "      <th>mosprime</th>\n",
       "      <th>libor</th>\n",
       "    </tr>\n",
       "  </thead>\n",
       "  <tbody>\n",
       "    <tr>\n",
       "      <th>0</th>\n",
       "      <td>2020-12-21</td>\n",
       "      <td>4.92</td>\n",
       "      <td>0.24488</td>\n",
       "    </tr>\n",
       "    <tr>\n",
       "      <th>1</th>\n",
       "      <td>2020-12-22</td>\n",
       "      <td>4.94</td>\n",
       "      <td>0.23813</td>\n",
       "    </tr>\n",
       "    <tr>\n",
       "      <th>2</th>\n",
       "      <td>2020-12-23</td>\n",
       "      <td>4.93</td>\n",
       "      <td>0.25100</td>\n",
       "    </tr>\n",
       "    <tr>\n",
       "      <th>3</th>\n",
       "      <td>2020-12-24</td>\n",
       "      <td>4.92</td>\n",
       "      <td>0.24013</td>\n",
       "    </tr>\n",
       "    <tr>\n",
       "      <th>4</th>\n",
       "      <td>2020-12-25</td>\n",
       "      <td>4.93</td>\n",
       "      <td>0.00000</td>\n",
       "    </tr>\n",
       "    <tr>\n",
       "      <th>...</th>\n",
       "      <td>...</td>\n",
       "      <td>...</td>\n",
       "      <td>...</td>\n",
       "    </tr>\n",
       "    <tr>\n",
       "      <th>236</th>\n",
       "      <td>2021-12-06</td>\n",
       "      <td>9.09</td>\n",
       "      <td>0.19000</td>\n",
       "    </tr>\n",
       "    <tr>\n",
       "      <th>237</th>\n",
       "      <td>2021-12-07</td>\n",
       "      <td>9.13</td>\n",
       "      <td>0.19825</td>\n",
       "    </tr>\n",
       "    <tr>\n",
       "      <th>238</th>\n",
       "      <td>2021-12-08</td>\n",
       "      <td>9.14</td>\n",
       "      <td>0.20050</td>\n",
       "    </tr>\n",
       "    <tr>\n",
       "      <th>239</th>\n",
       "      <td>2021-12-09</td>\n",
       "      <td>9.16</td>\n",
       "      <td>0.20088</td>\n",
       "    </tr>\n",
       "    <tr>\n",
       "      <th>240</th>\n",
       "      <td>2021-12-10</td>\n",
       "      <td>9.16</td>\n",
       "      <td>0.19825</td>\n",
       "    </tr>\n",
       "  </tbody>\n",
       "</table>\n",
       "<p>241 rows × 3 columns</p>\n",
       "</div>"
      ],
      "text/plain": [
       "          data  mosprime    libor\n",
       "0   2020-12-21      4.92  0.24488\n",
       "1   2020-12-22      4.94  0.23813\n",
       "2   2020-12-23      4.93  0.25100\n",
       "3   2020-12-24      4.92  0.24013\n",
       "4   2020-12-25      4.93  0.00000\n",
       "..         ...       ...      ...\n",
       "236 2021-12-06      9.09  0.19000\n",
       "237 2021-12-07      9.13  0.19825\n",
       "238 2021-12-08      9.14  0.20050\n",
       "239 2021-12-09      9.16  0.20088\n",
       "240 2021-12-10      9.16  0.19825\n",
       "\n",
       "[241 rows x 3 columns]"
      ]
     },
     "execution_count": 7,
     "metadata": {},
     "output_type": "execute_result"
    }
   ],
   "source": [
    "merged_df = pd.merge(df_mosprime, df_libor, on='data')\n",
    "merged_df.rename(columns={'value_x': 'mosprime', 'value_y': 'libor'}, inplace=True)\n",
    "merged_df"
   ]
  },
  {
   "cell_type": "code",
   "execution_count": 9,
   "id": "93b21ae2",
   "metadata": {},
   "outputs": [
    {
     "data": {
      "text/html": [
       "<div>\n",
       "<style scoped>\n",
       "    .dataframe tbody tr th:only-of-type {\n",
       "        vertical-align: middle;\n",
       "    }\n",
       "\n",
       "    .dataframe tbody tr th {\n",
       "        vertical-align: top;\n",
       "    }\n",
       "\n",
       "    .dataframe thead th {\n",
       "        text-align: right;\n",
       "    }\n",
       "</style>\n",
       "<table border=\"1\" class=\"dataframe\">\n",
       "  <thead>\n",
       "    <tr style=\"text-align: right;\">\n",
       "      <th></th>\n",
       "      <th>&lt;TICKER&gt;</th>\n",
       "      <th>&lt;PER&gt;</th>\n",
       "      <th>&lt;DATE&gt;</th>\n",
       "      <th>&lt;TIME&gt;</th>\n",
       "      <th>&lt;OPEN&gt;</th>\n",
       "      <th>&lt;HIGH&gt;</th>\n",
       "      <th>&lt;LOW&gt;</th>\n",
       "      <th>&lt;CLOSE&gt;</th>\n",
       "      <th>&lt;VOL&gt;</th>\n",
       "    </tr>\n",
       "  </thead>\n",
       "  <tbody>\n",
       "    <tr>\n",
       "      <th>0</th>\n",
       "      <td>USDCB</td>\n",
       "      <td>60</td>\n",
       "      <td>20201222</td>\n",
       "      <td>10000</td>\n",
       "      <td>74.6721</td>\n",
       "      <td>74.6721</td>\n",
       "      <td>74.6721</td>\n",
       "      <td>74.6721</td>\n",
       "      <td>0</td>\n",
       "    </tr>\n",
       "    <tr>\n",
       "      <th>1</th>\n",
       "      <td>USDCB</td>\n",
       "      <td>60</td>\n",
       "      <td>20201223</td>\n",
       "      <td>10000</td>\n",
       "      <td>75.3498</td>\n",
       "      <td>75.3498</td>\n",
       "      <td>75.3498</td>\n",
       "      <td>75.3498</td>\n",
       "      <td>0</td>\n",
       "    </tr>\n",
       "    <tr>\n",
       "      <th>2</th>\n",
       "      <td>USDCB</td>\n",
       "      <td>60</td>\n",
       "      <td>20201224</td>\n",
       "      <td>10000</td>\n",
       "      <td>75.4571</td>\n",
       "      <td>75.4571</td>\n",
       "      <td>75.4571</td>\n",
       "      <td>75.4571</td>\n",
       "      <td>0</td>\n",
       "    </tr>\n",
       "    <tr>\n",
       "      <th>3</th>\n",
       "      <td>USDCB</td>\n",
       "      <td>60</td>\n",
       "      <td>20201225</td>\n",
       "      <td>10000</td>\n",
       "      <td>74.8392</td>\n",
       "      <td>74.8392</td>\n",
       "      <td>74.8392</td>\n",
       "      <td>74.8392</td>\n",
       "      <td>0</td>\n",
       "    </tr>\n",
       "    <tr>\n",
       "      <th>4</th>\n",
       "      <td>USDCB</td>\n",
       "      <td>60</td>\n",
       "      <td>20201226</td>\n",
       "      <td>10000</td>\n",
       "      <td>73.6921</td>\n",
       "      <td>73.6921</td>\n",
       "      <td>73.6921</td>\n",
       "      <td>73.6921</td>\n",
       "      <td>0</td>\n",
       "    </tr>\n",
       "  </tbody>\n",
       "</table>\n",
       "</div>"
      ],
      "text/plain": [
       "  <TICKER>  <PER>    <DATE>  <TIME>   <OPEN>   <HIGH>    <LOW>  <CLOSE>  <VOL>\n",
       "0    USDCB     60  20201222   10000  74.6721  74.6721  74.6721  74.6721      0\n",
       "1    USDCB     60  20201223   10000  75.3498  75.3498  75.3498  75.3498      0\n",
       "2    USDCB     60  20201224   10000  75.4571  75.4571  75.4571  75.4571      0\n",
       "3    USDCB     60  20201225   10000  74.8392  74.8392  74.8392  74.8392      0\n",
       "4    USDCB     60  20201226   10000  73.6921  73.6921  73.6921  73.6921      0"
      ]
     },
     "execution_count": 9,
     "metadata": {},
     "output_type": "execute_result"
    }
   ],
   "source": [
    "rub_usd_df = pd.read_csv('USDCB_201221_211210.csv')\n",
    "rub_usd_df.head()"
   ]
  },
  {
   "cell_type": "code",
   "execution_count": 11,
   "id": "40f9015b",
   "metadata": {},
   "outputs": [],
   "source": [
    "rub_usd_df['<DATE>'] = pd.to_datetime(rub_usd_df['<DATE>'], format='%Y%m%d')\n",
    "rub_usd_df.drop(columns=['<TICKER>', '<PER>', '<TIME>', '<OPEN>', '<HIGH>', '<LOW>', '<VOL>'], inplace=True)\n",
    "rub_usd_df.rename(columns={'<DATE>': 'data', '<CLOSE>': 'value'}, inplace=True)\n",
    "rub_usd_df.drop(rub_usd_df.tail(1).index,inplace=True)"
   ]
  },
  {
   "cell_type": "code",
   "execution_count": 12,
   "id": "897f1fdc",
   "metadata": {},
   "outputs": [
    {
     "data": {
      "text/html": [
       "<div>\n",
       "<style scoped>\n",
       "    .dataframe tbody tr th:only-of-type {\n",
       "        vertical-align: middle;\n",
       "    }\n",
       "\n",
       "    .dataframe tbody tr th {\n",
       "        vertical-align: top;\n",
       "    }\n",
       "\n",
       "    .dataframe thead th {\n",
       "        text-align: right;\n",
       "    }\n",
       "</style>\n",
       "<table border=\"1\" class=\"dataframe\">\n",
       "  <thead>\n",
       "    <tr style=\"text-align: right;\">\n",
       "      <th></th>\n",
       "      <th>data</th>\n",
       "      <th>value</th>\n",
       "    </tr>\n",
       "  </thead>\n",
       "  <tbody>\n",
       "    <tr>\n",
       "      <th>0</th>\n",
       "      <td>2020-12-22</td>\n",
       "      <td>74.6721</td>\n",
       "    </tr>\n",
       "    <tr>\n",
       "      <th>1</th>\n",
       "      <td>2020-12-23</td>\n",
       "      <td>75.3498</td>\n",
       "    </tr>\n",
       "    <tr>\n",
       "      <th>2</th>\n",
       "      <td>2020-12-24</td>\n",
       "      <td>75.4571</td>\n",
       "    </tr>\n",
       "    <tr>\n",
       "      <th>3</th>\n",
       "      <td>2020-12-25</td>\n",
       "      <td>74.8392</td>\n",
       "    </tr>\n",
       "    <tr>\n",
       "      <th>4</th>\n",
       "      <td>2020-12-26</td>\n",
       "      <td>73.6921</td>\n",
       "    </tr>\n",
       "    <tr>\n",
       "      <th>...</th>\n",
       "      <td>...</td>\n",
       "      <td>...</td>\n",
       "    </tr>\n",
       "    <tr>\n",
       "      <th>236</th>\n",
       "      <td>2021-12-04</td>\n",
       "      <td>73.7426</td>\n",
       "    </tr>\n",
       "    <tr>\n",
       "      <th>237</th>\n",
       "      <td>2021-12-07</td>\n",
       "      <td>73.6694</td>\n",
       "    </tr>\n",
       "    <tr>\n",
       "      <th>238</th>\n",
       "      <td>2021-12-08</td>\n",
       "      <td>74.1399</td>\n",
       "    </tr>\n",
       "    <tr>\n",
       "      <th>239</th>\n",
       "      <td>2021-12-09</td>\n",
       "      <td>73.8453</td>\n",
       "    </tr>\n",
       "    <tr>\n",
       "      <th>240</th>\n",
       "      <td>2021-12-10</td>\n",
       "      <td>73.5998</td>\n",
       "    </tr>\n",
       "  </tbody>\n",
       "</table>\n",
       "<p>241 rows × 2 columns</p>\n",
       "</div>"
      ],
      "text/plain": [
       "          data    value\n",
       "0   2020-12-22  74.6721\n",
       "1   2020-12-23  75.3498\n",
       "2   2020-12-24  75.4571\n",
       "3   2020-12-25  74.8392\n",
       "4   2020-12-26  73.6921\n",
       "..         ...      ...\n",
       "236 2021-12-04  73.7426\n",
       "237 2021-12-07  73.6694\n",
       "238 2021-12-08  74.1399\n",
       "239 2021-12-09  73.8453\n",
       "240 2021-12-10  73.5998\n",
       "\n",
       "[241 rows x 2 columns]"
      ]
     },
     "execution_count": 12,
     "metadata": {},
     "output_type": "execute_result"
    }
   ],
   "source": [
    "rub_usd_df"
   ]
  },
  {
   "cell_type": "code",
   "execution_count": 13,
   "id": "e91e86e1",
   "metadata": {},
   "outputs": [
    {
     "data": {
      "image/png": "[encoded data removed]",
      "text/plain": [
       "<Figure size 640x480 with 1 Axes>"
      ]
     },
     "metadata": {
      "needs_background": "light"
     },
     "output_type": "display_data"
    }
   ],
   "source": [
    "figure(figsize=(8, 6), dpi=80)\n",
    "\n",
    "plt.plot(rub_usd_df['data'], rub_usd_df['value'])\n",
    "plt.title('Динамика обменного курса')\n",
    "plt.xlabel('date')\n",
    "plt.ylabel('value')\n",
    "plt.grid()"
   ]
  },
  {
   "cell_type": "code",
   "execution_count": 24,
   "id": "984c5fbd",
   "metadata": {},
   "outputs": [],
   "source": [
    "temp_df=pd.DataFrame()\n",
    "temp_df['mosprime'] = merged_df['mosprime']\n",
    "temp_df['libor'] = merged_df['libor']\n",
    "# Будем считать приросты логарифмов для обменного курса\n",
    "# так как в модели приросты выражаются через деление прошлого значения\n",
    "temp_df['rub_usd'] = np.log(rub_usd_df['value'])  "
   ]
  },
  {
   "cell_type": "code",
   "execution_count": 25,
   "id": "abae812d",
   "metadata": {},
   "outputs": [
    {
     "data": {
      "image/png": "[encoded data removed]",
      "text/plain": [
       "<Figure size 640x480 with 2 Axes>"
      ]
     },
     "metadata": {
      "needs_background": "light"
     },
     "output_type": "display_data"
    }
   ],
   "source": [
    "figure(figsize=(8, 6), dpi=80)\n",
    "\n",
    "plt.title('Матрица корреляций абсолютных значений')\n",
    "sns.heatmap(temp_df.corr(), annot=True)\n",
    "plt.show()"
   ]
  },
  {
   "cell_type": "code",
   "execution_count": 26,
   "id": "6b5dd3dc",
   "metadata": {},
   "outputs": [],
   "source": [
    "diff_df = temp_df.diff(1)[1:]"
   ]
  },
  {
   "cell_type": "code",
   "execution_count": 28,
   "id": "103df139",
   "metadata": {},
   "outputs": [
    {
     "data": {
      "image/png": "[encoded data removed]",
      "text/plain": [
       "<Figure size 640x480 with 2 Axes>"
      ]
     },
     "metadata": {
      "needs_background": "light"
     },
     "output_type": "display_data"
    }
   ],
   "source": [
    "figure(figsize=(8, 6), dpi=80)\n",
    "\n",
    "plt.title('Матрица корреляций приростов значений')\n",
    "sns.heatmap(diff_df.corr(), annot=True)\n",
    "plt.show()"
   ]
  },
  {
   "cell_type": "code",
   "execution_count": 29,
   "id": "7b6ffea7",
   "metadata": {},
   "outputs": [
    {
     "data": {
      "text/plain": [
       "0      74.6721\n",
       "1      75.3498\n",
       "2      75.4571\n",
       "3      74.8392\n",
       "4      73.6921\n",
       "        ...   \n",
       "236    73.7426\n",
       "237    73.6694\n",
       "238    74.1399\n",
       "239    73.8453\n",
       "240    73.5998\n",
       "Name: value, Length: 241, dtype: float64"
      ]
     },
     "execution_count": 29,
     "metadata": {},
     "output_type": "execute_result"
    }
   ],
   "source": [
    "rub_usd_df['value']"
   ]
  },
  {
   "cell_type": "code",
   "execution_count": null,
   "id": "82a69e22",
   "metadata": {},
   "outputs": [],
   "source": []
  }
 ],
 "metadata": {
  "kernelspec": {
   "display_name": "Python 3",
   "language": "python",
   "name": "python3"
  },
  "language_info": {
   "codemirror_mode": {
    "name": "ipython",
    "version": 3
   },
   "file_extension": ".py",
   "mimetype": "text/x-python",
   "name": "python",
   "nbconvert_exporter": "python",
   "pygments_lexer": "ipython3",
   "version": "3.8.8"
  }
 },
 "nbformat": 4,
 "nbformat_minor": 5
}
